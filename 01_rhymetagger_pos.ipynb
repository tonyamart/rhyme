{
 "cells": [
  {
   "cell_type": "markdown",
   "id": "76bc476b",
   "metadata": {},
   "source": [
    "### Rhymetagger test"
   ]
  },
  {
   "cell_type": "markdown",
   "id": "c0a91594",
   "metadata": {},
   "source": [
    "Basic readings"
   ]
  },
  {
   "cell_type": "code",
   "execution_count": 12,
   "id": "ec1595f2",
   "metadata": {},
   "outputs": [],
   "source": [
    "from rhymetagger import RhymeTagger\n",
    "from nltk.tokenize import RegexpTokenizer\n",
    "import pandas as pd\n",
    "import os\n",
    "import re"
   ]
  },
  {
   "cell_type": "code",
   "execution_count": 2,
   "id": "0652cf9e",
   "metadata": {},
   "outputs": [],
   "source": [
    "# initialise tokenizer that would clean punct\n",
    "tokenizer = RegexpTokenizer(r'\\w+')"
   ]
  },
  {
   "cell_type": "code",
   "execution_count": 3,
   "id": "739c474b",
   "metadata": {},
   "outputs": [],
   "source": [
    "os.chdir(\"data\")"
   ]
  },
  {
   "cell_type": "code",
   "execution_count": 4,
   "id": "bf536696",
   "metadata": {},
   "outputs": [
    {
     "name": "stdout",
     "output_type": "stream",
     "text": [
      "P_44.txt\n",
      "P_41.txt\n",
      "P_40.txt\n",
      "P_42.txt\n",
      "P_43.txt\n"
     ]
    }
   ],
   "source": [
    "for file in os.listdir():\n",
    "    if file.endswith('.txt'):\n",
    "        print(file)"
   ]
  },
  {
   "cell_type": "code",
   "execution_count": 7,
   "id": "405bac6c",
   "metadata": {},
   "outputs": [
    {
     "name": "stdout",
     "output_type": "stream",
     "text": [
      "====================================\n",
      "Model loaded with following settings:\n",
      "====================================\n",
      "  frequency_min: 3\n",
      "           lang: ru\n",
      "       max_iter: 20\n",
      "          ngram: 3\n",
      "   ngram_length: 3\n",
      "   prob_ipa_min: 0.9\n",
      " prob_ngram_min: 0.9\n",
      "     same_words: False\n",
      "   stanza_limit: True\n",
      "         stress: True\n",
      "       syll_max: 2\n",
      "    t_score_min: 3.078\n",
      "   vowel_length: True\n",
      "         window: 5\n",
      "====================================\n"
     ]
    }
   ],
   "source": [
    "rt = RhymeTagger()\n",
    "rt.load_model(model = 'ru')"
   ]
  },
  {
   "cell_type": "code",
   "execution_count": 8,
   "id": "eb207413",
   "metadata": {},
   "outputs": [
    {
     "name": "stdout",
     "output_type": "stream",
     "text": [
      "just finished: P_44.txt\n",
      "just finished: P_41.txt\n",
      "just finished: P_40.txt\n",
      "just finished: P_42.txt\n",
      "just finished: P_43.txt\n"
     ]
    }
   ],
   "source": [
    "poem = []\n",
    "poem_id = []\n",
    "verse = []\n",
    "rhyme_words = []\n",
    "rhyme_list = []\n",
    "\n",
    "for file in os.listdir():\n",
    "    if file.endswith('.txt'):\n",
    "        with open(file, 'r') as text:\n",
    "            for line in text:\n",
    "                if line != '\\n':\n",
    "                    poem_id.append(file)\n",
    "                    line = line.strip()\n",
    "                    poem.append(line)\n",
    "                    verse = tokenizer.tokenize(line)\n",
    "                    rhyme_words.append(verse[len(verse)-1])\n",
    "            rhymes = rt.tag(poem, output_format = 3)\n",
    "            rhyme_list.append(rhymes)\n",
    "            rhymes, poem, verse = [],[],[]\n",
    "            print('just finished:', file)\n",
    "            "
   ]
  },
  {
   "cell_type": "code",
   "execution_count": null,
   "id": "d68f0e0b",
   "metadata": {},
   "outputs": [],
   "source": [
    "print(rhyme_list)"
   ]
  },
  {
   "cell_type": "code",
   "execution_count": 10,
   "id": "f7dc4f66",
   "metadata": {},
   "outputs": [],
   "source": [
    "# flat the nested list from rhyme tagger\n",
    "flat_rhymes = [item for sublist in rhyme_list for item in sublist]"
   ]
  },
  {
   "cell_type": "markdown",
   "id": "4a70d866",
   "metadata": {},
   "source": [
    "##### add POS tags"
   ]
  },
  {
   "cell_type": "code",
   "execution_count": 67,
   "id": "efd19d7a",
   "metadata": {},
   "outputs": [],
   "source": [
    "from pymystem3 import Mystem\n",
    "m = Mystem()\n",
    "\n",
    "pos_list = []\n",
    "\n",
    "for word in rhyme_words:\n",
    "    analysis = m.analyze(word)\n",
    "    pos_list.append(analysis[0]['analysis'][0]['gr'])"
   ]
  },
  {
   "cell_type": "code",
   "execution_count": 68,
   "id": "23067108",
   "metadata": {},
   "outputs": [
    {
     "data": {
      "text/html": [
       "<div>\n",
       "<style scoped>\n",
       "    .dataframe tbody tr th:only-of-type {\n",
       "        vertical-align: middle;\n",
       "    }\n",
       "\n",
       "    .dataframe tbody tr th {\n",
       "        vertical-align: top;\n",
       "    }\n",
       "\n",
       "    .dataframe thead th {\n",
       "        text-align: right;\n",
       "    }\n",
       "</style>\n",
       "<table border=\"1\" class=\"dataframe\">\n",
       "  <thead>\n",
       "    <tr style=\"text-align: right;\">\n",
       "      <th></th>\n",
       "      <th>poem_id</th>\n",
       "      <th>rhyme_words</th>\n",
       "      <th>rhymes</th>\n",
       "      <th>pos</th>\n",
       "    </tr>\n",
       "  </thead>\n",
       "  <tbody>\n",
       "    <tr>\n",
       "      <th>0</th>\n",
       "      <td>P_44.txt</td>\n",
       "      <td>одеждой</td>\n",
       "      <td>1.0</td>\n",
       "      <td>S,жен,неод=твор,ед</td>\n",
       "    </tr>\n",
       "    <tr>\n",
       "      <th>1</th>\n",
       "      <td>P_44.txt</td>\n",
       "      <td>поля</td>\n",
       "      <td>2.0</td>\n",
       "      <td>S,сред,неод=(вин,мн|род,ед|им,мн)</td>\n",
       "    </tr>\n",
       "    <tr>\n",
       "      <th>2</th>\n",
       "      <td>P_44.txt</td>\n",
       "      <td>надежда</td>\n",
       "      <td>1.0</td>\n",
       "      <td>S,жен,неод=им,ед</td>\n",
       "    </tr>\n",
       "    <tr>\n",
       "      <th>3</th>\n",
       "      <td>P_44.txt</td>\n",
       "      <td>земля</td>\n",
       "      <td>2.0</td>\n",
       "      <td>S,жен,неод=им,ед</td>\n",
       "    </tr>\n",
       "    <tr>\n",
       "      <th>4</th>\n",
       "      <td>P_44.txt</td>\n",
       "      <td>безмятежно</td>\n",
       "      <td>3.0</td>\n",
       "      <td>ADV=</td>\n",
       "    </tr>\n",
       "    <tr>\n",
       "      <th>...</th>\n",
       "      <td>...</td>\n",
       "      <td>...</td>\n",
       "      <td>...</td>\n",
       "      <td>...</td>\n",
       "    </tr>\n",
       "    <tr>\n",
       "      <th>431</th>\n",
       "      <td>P_43.txt</td>\n",
       "      <td>молодая</td>\n",
       "      <td>25.0</td>\n",
       "      <td>A=им,ед,полн,жен</td>\n",
       "    </tr>\n",
       "    <tr>\n",
       "      <th>432</th>\n",
       "      <td>P_43.txt</td>\n",
       "      <td>зови</td>\n",
       "      <td>26.0</td>\n",
       "      <td>V,несов,пе=ед,пов,2-л</td>\n",
       "    </tr>\n",
       "    <tr>\n",
       "      <th>433</th>\n",
       "      <td>P_43.txt</td>\n",
       "      <td>прекрасной</td>\n",
       "      <td>27.0</td>\n",
       "      <td>A=(пр,ед,полн,жен|дат,ед,полн,жен|род,ед,полн,...</td>\n",
       "    </tr>\n",
       "    <tr>\n",
       "      <th>434</th>\n",
       "      <td>P_43.txt</td>\n",
       "      <td>любви</td>\n",
       "      <td>26.0</td>\n",
       "      <td>S,жен,неод=(пр,ед|вин,мн|дат,ед|род,ед|им,мн)</td>\n",
       "    </tr>\n",
       "    <tr>\n",
       "      <th>435</th>\n",
       "      <td>P_43.txt</td>\n",
       "      <td>напрасно</td>\n",
       "      <td>27.0</td>\n",
       "      <td>ADV=</td>\n",
       "    </tr>\n",
       "  </tbody>\n",
       "</table>\n",
       "<p>436 rows × 4 columns</p>\n",
       "</div>"
      ],
      "text/plain": [
       "      poem_id rhyme_words  rhymes  \\\n",
       "0    P_44.txt     одеждой     1.0   \n",
       "1    P_44.txt        поля     2.0   \n",
       "2    P_44.txt     надежда     1.0   \n",
       "3    P_44.txt       земля     2.0   \n",
       "4    P_44.txt  безмятежно     3.0   \n",
       "..        ...         ...     ...   \n",
       "431  P_43.txt     молодая    25.0   \n",
       "432  P_43.txt        зови    26.0   \n",
       "433  P_43.txt  прекрасной    27.0   \n",
       "434  P_43.txt       любви    26.0   \n",
       "435  P_43.txt    напрасно    27.0   \n",
       "\n",
       "                                                   pos  \n",
       "0                                   S,жен,неод=твор,ед  \n",
       "1                    S,сред,неод=(вин,мн|род,ед|им,мн)  \n",
       "2                                     S,жен,неод=им,ед  \n",
       "3                                     S,жен,неод=им,ед  \n",
       "4                                                 ADV=  \n",
       "..                                                 ...  \n",
       "431                                   A=им,ед,полн,жен  \n",
       "432                              V,несов,пе=ед,пов,2-л  \n",
       "433  A=(пр,ед,полн,жен|дат,ед,полн,жен|род,ед,полн,...  \n",
       "434      S,жен,неод=(пр,ед|вин,мн|дат,ед|род,ед|им,мн)  \n",
       "435                                               ADV=  \n",
       "\n",
       "[436 rows x 4 columns]"
      ]
     },
     "execution_count": 68,
     "metadata": {},
     "output_type": "execute_result"
    }
   ],
   "source": [
    "df = pd.DataFrame({'poem_id':poem_id,\n",
    "                  'rhyme_words':rhyme_words,\n",
    "                  'rhymes':flat_rhymes,\n",
    "                  'pos':pos_list})\n",
    "df"
   ]
  },
  {
   "cell_type": "code",
   "execution_count": 69,
   "id": "cd3b10d2",
   "metadata": {},
   "outputs": [],
   "source": [
    "df.to_csv('test_data.csv')"
   ]
  },
  {
   "cell_type": "markdown",
   "id": "b3d99a43",
   "metadata": {},
   "source": [
    "### POS tagging tests"
   ]
  },
  {
   "cell_type": "code",
   "execution_count": 16,
   "id": "de2e1870",
   "metadata": {},
   "outputs": [],
   "source": [
    "import spacy\n",
    "nlp = spacy.load('ru_core_news_lg')"
   ]
  },
  {
   "cell_type": "code",
   "execution_count": 21,
   "id": "37052521",
   "metadata": {},
   "outputs": [
    {
     "name": "stdout",
     "output_type": "stream",
     "text": [
      "DET\n"
     ]
    }
   ],
   "source": [
    "test = ['мой', 'душа', 'гоняю']\n",
    "\n",
    "doc = nlp(\"мой\")\n",
    "\n",
    "for token in doc:\n",
    "    print(token.pos_)"
   ]
  },
  {
   "cell_type": "code",
   "execution_count": 23,
   "id": "c657cfd9",
   "metadata": {},
   "outputs": [],
   "source": [
    "pos_list = []\n",
    "\n",
    "for i in test:\n",
    "    doc = nlp(i)\n",
    "    for token in doc:\n",
    "        pos_list.append(token.pos_)"
   ]
  },
  {
   "cell_type": "code",
   "execution_count": 30,
   "id": "2d5e0582",
   "metadata": {},
   "outputs": [
    {
     "data": {
      "text/plain": [
       "['DET', 'NOUN', 'VERB']"
      ]
     },
     "execution_count": 30,
     "metadata": {},
     "output_type": "execute_result"
    }
   ],
   "source": [
    "pos_list"
   ]
  },
  {
   "cell_type": "code",
   "execution_count": 28,
   "id": "9bcd7c5c",
   "metadata": {},
   "outputs": [
    {
     "data": {
      "text/plain": [
       "['поля',\n",
       " 'надежда',\n",
       " 'земля',\n",
       " 'безмятежно',\n",
       " 'мечта',\n",
       " 'безрубежной',\n",
       " 'облита',\n",
       " 'простора',\n",
       " 'чудес']"
      ]
     },
     "execution_count": 28,
     "metadata": {},
     "output_type": "execute_result"
    }
   ],
   "source": [
    "rhyme_words[1:10]"
   ]
  },
  {
   "cell_type": "code",
   "execution_count": 32,
   "id": "d055f139",
   "metadata": {},
   "outputs": [],
   "source": [
    "pos_list = [token.pos_ for word in rhyme_words[1:10] for token in nlp(word)]"
   ]
  },
  {
   "cell_type": "code",
   "execution_count": 33,
   "id": "abd8e10e",
   "metadata": {},
   "outputs": [
    {
     "data": {
      "text/plain": [
       "['NOUN', 'NOUN', 'NOUN', 'ADJ', 'NOUN', 'NOUN', 'VERB', 'NOUN', 'NOUN']"
      ]
     },
     "execution_count": 33,
     "metadata": {},
     "output_type": "execute_result"
    }
   ],
   "source": [
    "pos_list"
   ]
  },
  {
   "cell_type": "markdown",
   "id": "e10078f5",
   "metadata": {},
   "source": [
    "#### nltk pos"
   ]
  },
  {
   "cell_type": "code",
   "execution_count": 36,
   "id": "5a020228",
   "metadata": {},
   "outputs": [],
   "source": [
    "from nltk import pos_tag"
   ]
  },
  {
   "cell_type": "code",
   "execution_count": 43,
   "id": "dd533890",
   "metadata": {},
   "outputs": [
    {
     "data": {
      "text/plain": [
       "[('безмятежно', 'NN')]"
      ]
     },
     "execution_count": 43,
     "metadata": {},
     "output_type": "execute_result"
    }
   ],
   "source": [
    "pos_tag([\"безмятежно\"])"
   ]
  },
  {
   "cell_type": "markdown",
   "id": "8af62951",
   "metadata": {},
   "source": [
    "#### mystem"
   ]
  },
  {
   "cell_type": "code",
   "execution_count": 45,
   "id": "29fa234f",
   "metadata": {},
   "outputs": [],
   "source": [
    "from pymystem3 import Mystem\n",
    "m = Mystem()"
   ]
  },
  {
   "cell_type": "code",
   "execution_count": 47,
   "id": "b8335f1e",
   "metadata": {},
   "outputs": [
    {
     "data": {
      "text/plain": [
       "[{'analysis': [{'lex': 'слово', 'gr': 'S,сред,неод=(вин,ед|им,ед)'}],\n",
       "  'text': 'слово'},\n",
       " {'text': ' '},\n",
       " {'analysis': [{'lex': 'безмятежно', 'gr': 'ADV='}], 'text': 'безмятежно'},\n",
       " {'text': '\\n'}]"
      ]
     },
     "execution_count": 47,
     "metadata": {},
     "output_type": "execute_result"
    }
   ],
   "source": [
    "m.analyze(\"слово безмятежно\")"
   ]
  },
  {
   "cell_type": "code",
   "execution_count": 52,
   "id": "4abbe665",
   "metadata": {},
   "outputs": [
    {
     "data": {
      "text/plain": [
       "{'analysis': [{'lex': 'безмятежно', 'gr': 'ADV='}], 'text': 'безмятежно'}"
      ]
     },
     "execution_count": 52,
     "metadata": {},
     "output_type": "execute_result"
    }
   ],
   "source": [
    "analysis = m.analyze(\"безмятежно\")\n",
    "analysis[0]"
   ]
  },
  {
   "cell_type": "code",
   "execution_count": 57,
   "id": "c85783b6",
   "metadata": {},
   "outputs": [
    {
     "data": {
      "text/plain": [
       "'ADV='"
      ]
     },
     "execution_count": 57,
     "metadata": {},
     "output_type": "execute_result"
    }
   ],
   "source": [
    "d = analysis[0]\n",
    "d['analysis'][0]['gr']"
   ]
  },
  {
   "cell_type": "code",
   "execution_count": 58,
   "id": "03606b34",
   "metadata": {},
   "outputs": [
    {
     "data": {
      "text/plain": [
       "'ADV='"
      ]
     },
     "execution_count": 58,
     "metadata": {},
     "output_type": "execute_result"
    }
   ],
   "source": [
    "analysis[0]['analysis'][0]['gr']"
   ]
  },
  {
   "cell_type": "code",
   "execution_count": 59,
   "id": "6e27e92d",
   "metadata": {},
   "outputs": [
    {
     "data": {
      "text/plain": [
       "['поля',\n",
       " 'надежда',\n",
       " 'земля',\n",
       " 'безмятежно',\n",
       " 'мечта',\n",
       " 'безрубежной',\n",
       " 'облита',\n",
       " 'простора',\n",
       " 'чудес']"
      ]
     },
     "execution_count": 59,
     "metadata": {},
     "output_type": "execute_result"
    }
   ],
   "source": [
    "rhyme_words[1:10]"
   ]
  },
  {
   "cell_type": "code",
   "execution_count": 65,
   "id": "4f85bb45",
   "metadata": {},
   "outputs": [],
   "source": [
    "pos_list = []\n",
    "\n",
    "for word in rhyme_words[1:10]:\n",
    "    analysis = m.analyze(word)\n",
    "    pos_list.append(analysis[0]['analysis'][0]['gr'])"
   ]
  },
  {
   "cell_type": "code",
   "execution_count": 66,
   "id": "a8f77173",
   "metadata": {},
   "outputs": [
    {
     "data": {
      "text/plain": [
       "['S,сред,неод=(вин,мн|род,ед|им,мн)',\n",
       " 'S,жен,неод=им,ед',\n",
       " 'S,жен,неод=им,ед',\n",
       " 'ADV=',\n",
       " 'S,жен,неод=им,ед',\n",
       " 'A=(пр,ед,полн,жен|дат,ед,полн,жен|род,ед,полн,жен|твор,ед,полн,жен)',\n",
       " 'V=прош,ед,прич,кр,жен,сов,страд',\n",
       " 'S,муж,неод=род,ед',\n",
       " 'S,сред,неод=род,мн']"
      ]
     },
     "execution_count": 66,
     "metadata": {},
     "output_type": "execute_result"
    }
   ],
   "source": [
    "pos_list"
   ]
  },
  {
   "cell_type": "code",
   "execution_count": 62,
   "id": "0e613cd6",
   "metadata": {},
   "outputs": [],
   "source": [
    "pos_list = []"
   ]
  },
  {
   "cell_type": "code",
   "execution_count": null,
   "id": "fc03cc5b",
   "metadata": {},
   "outputs": [],
   "source": []
  }
 ],
 "metadata": {
  "kernelspec": {
   "display_name": "Python 3 (ipykernel)",
   "language": "python",
   "name": "python3"
  },
  "language_info": {
   "codemirror_mode": {
    "name": "ipython",
    "version": 3
   },
   "file_extension": ".py",
   "mimetype": "text/x-python",
   "name": "python",
   "nbconvert_exporter": "python",
   "pygments_lexer": "ipython3",
   "version": "3.9.2"
  }
 },
 "nbformat": 4,
 "nbformat_minor": 5
}
