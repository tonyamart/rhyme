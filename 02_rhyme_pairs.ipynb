{
 "cells": [
  {
   "cell_type": "markdown",
   "id": "f8ca0067",
   "metadata": {},
   "source": [
    "### Tables manipulation & counting"
   ]
  },
  {
   "cell_type": "code",
   "execution_count": 1,
   "id": "4fbee64c",
   "metadata": {},
   "outputs": [
    {
     "name": "stderr",
     "output_type": "stream",
     "text": [
      "── \u001b[1mAttaching packages\u001b[22m ─────────────────────────────────────── tidyverse 1.3.2 ──\n",
      "\u001b[32m✔\u001b[39m \u001b[34mggplot2\u001b[39m 3.4.1     \u001b[32m✔\u001b[39m \u001b[34mpurrr  \u001b[39m 1.0.1\n",
      "\u001b[32m✔\u001b[39m \u001b[34mtibble \u001b[39m 3.1.8     \u001b[32m✔\u001b[39m \u001b[34mdplyr  \u001b[39m 1.1.0\n",
      "\u001b[32m✔\u001b[39m \u001b[34mtidyr  \u001b[39m 1.3.0     \u001b[32m✔\u001b[39m \u001b[34mstringr\u001b[39m 1.5.0\n",
      "\u001b[32m✔\u001b[39m \u001b[34mreadr  \u001b[39m 2.1.4     \u001b[32m✔\u001b[39m \u001b[34mforcats\u001b[39m 1.0.0\n",
      "── \u001b[1mConflicts\u001b[22m ────────────────────────────────────────── tidyverse_conflicts() ──\n",
      "\u001b[31m✖\u001b[39m \u001b[34mdplyr\u001b[39m::\u001b[32mfilter()\u001b[39m masks \u001b[34mstats\u001b[39m::filter()\n",
      "\u001b[31m✖\u001b[39m \u001b[34mdplyr\u001b[39m::\u001b[32mlag()\u001b[39m    masks \u001b[34mstats\u001b[39m::lag()\n"
     ]
    }
   ],
   "source": [
    "library(tidyverse)"
   ]
  },
  {
   "cell_type": "code",
   "execution_count": 2,
   "id": "d6548b7b",
   "metadata": {},
   "outputs": [
    {
     "name": "stdout",
     "output_type": "stream",
     "text": [
      "Rows: 436\n",
      "Columns: 6\n",
      "$ poem_id     \u001b[3m\u001b[90m<chr>\u001b[39m\u001b[23m \"P_44\", \"P_44\", \"P_44\", \"P_44\", \"P_44\", \"P_44\", \"P_44\", \"P…\n",
      "$ rhyme_words \u001b[3m\u001b[90m<chr>\u001b[39m\u001b[23m \"одеждой\", \"поля\", \"надежда\", \"земля\", \"безмятежно\", \"мечт…\n",
      "$ rhymes      \u001b[3m\u001b[90m<dbl>\u001b[39m\u001b[23m 1, 2, 1, 2, 3, 2, 3, NA, 4, 5, 4, 5, 6, NA, 6, NA, NA, 7, …\n",
      "$ pos         \u001b[3m\u001b[90m<chr>\u001b[39m\u001b[23m \"S,жен,неод=твор,ед\", \"S,сред,неод=(вин,мн|род,ед|им,мн)\",…\n",
      "$ line        \u001b[3m\u001b[90m<int>\u001b[39m\u001b[23m 1, 2, 3, 4, 5, 6, 7, 8, 9, 10, 11, 12, 13, 14, 15, 16, 17,…\n",
      "$ line_id     \u001b[3m\u001b[90m<chr>\u001b[39m\u001b[23m \"P_44_1\", \"P_44_2\", \"P_44_3\", \"P_44_4\", \"P_44_5\", \"P_44_6\"…\n"
     ]
    }
   ],
   "source": [
    "# import data from python analysis\n",
    "\n",
    "dat <- read.csv(\"data/test_data.csv\") %>% select(-X)\n",
    "\n",
    "dat <- dat %>% \n",
    "  group_by(poem_id) %>% \n",
    "  mutate(poem_id = str_remove_all(poem_id, \"\\\\.txt\"),\n",
    "         line = row_number(),\n",
    "         line_id = paste0(poem_id, \"_\", line)) %>% \n",
    "  ungroup()\n",
    "\n",
    "glimpse(dat)"
   ]
  },
  {
   "cell_type": "code",
   "execution_count": 19,
   "id": "6c1cb7c6",
   "metadata": {},
   "outputs": [
    {
     "data": {
      "text/html": [
       "<style>\n",
       ".list-inline {list-style: none; margin:0; padding: 0}\n",
       ".list-inline>li {display: inline-block}\n",
       ".list-inline>li:not(:last-child)::after {content: \"\\00b7\"; padding: 0 .5ex}\n",
       "</style>\n",
       "<ol class=list-inline><li>'S'</li><li>'ADV'</li><li>'A'</li><li>'V'</li><li>'PART'</li><li>'APRO'</li><li>'SPRO'</li><li>'ADVPRO'</li></ol>\n"
      ],
      "text/latex": [
       "\\begin{enumerate*}\n",
       "\\item 'S'\n",
       "\\item 'ADV'\n",
       "\\item 'A'\n",
       "\\item 'V'\n",
       "\\item 'PART'\n",
       "\\item 'APRO'\n",
       "\\item 'SPRO'\n",
       "\\item 'ADVPRO'\n",
       "\\end{enumerate*}\n"
      ],
      "text/markdown": [
       "1. 'S'\n",
       "2. 'ADV'\n",
       "3. 'A'\n",
       "4. 'V'\n",
       "5. 'PART'\n",
       "6. 'APRO'\n",
       "7. 'SPRO'\n",
       "8. 'ADVPRO'\n",
       "\n",
       "\n"
      ],
      "text/plain": [
       "[1] \"S\"      \"ADV\"    \"A\"      \"V\"      \"PART\"   \"APRO\"   \"SPRO\"   \"ADVPRO\""
      ]
     },
     "metadata": {},
     "output_type": "display_data"
    }
   ],
   "source": [
    "# clean grammar to only pos tags \n",
    "\n",
    "dat <- dat %>% \n",
    "    mutate(pos2 = str_replace_all(pos, \"^(\\\\w+)(,|=).*\", \"\\\\1\"))\n",
    "\n",
    "unique(dat$pos2)"
   ]
  },
  {
   "cell_type": "code",
   "execution_count": 21,
   "id": "b17e2822",
   "metadata": {},
   "outputs": [
    {
     "name": "stdout",
     "output_type": "stream",
     "text": [
      "Rows: 436\n",
      "Columns: 4\n",
      "$ poem_id \u001b[3m\u001b[90m<chr>\u001b[39m\u001b[23m \"P_40\", \"P_40\", \"P_40\", \"P_40\", \"P_40\", \"P_40\", \"P_40\", \"P_40\"…\n",
      "$ text    \u001b[3m\u001b[90m<chr>\u001b[39m\u001b[23m \"Цвела лилея полевая:\", \"Как яркий снег бела, нежна;\", \"Красой…\n",
      "$ line    \u001b[3m\u001b[90m<int>\u001b[39m\u001b[23m 1, 2, 3, 4, 5, 6, 7, 8, 9, 10, 11, 12, 13, 14, 15, 16, 17, 18,…\n",
      "$ line_id \u001b[3m\u001b[90m<chr>\u001b[39m\u001b[23m \"P_40_1\", \"P_40_2\", \"P_40_3\", \"P_40_4\", \"P_40_5\", \"P_40_6\", \"P…\n"
     ]
    }
   ],
   "source": [
    "# read texts (not obligatory but for testing)\n",
    "\n",
    "filelist <- list.files(path = \"data\", pattern = \".txt\", full.names = T)\n",
    "\n",
    "corpus <- tibble(poem_id = filelist,\n",
    "                 text = sapply(filelist, read_file))\n",
    "\n",
    "corpus <- corpus %>% \n",
    "  mutate(poem_id = str_remove_all(poem_id, \"data/|\\\\.txt\")) %>% \n",
    "  separate_longer_delim(text, delim = \"\\n\") %>% \n",
    "  filter(text != \"\") %>% \n",
    "  group_by(poem_id) %>% \n",
    "  mutate(line = row_number(), \n",
    "         line_id = paste0(poem_id, \"_\", line)) %>% \n",
    "  ungroup()\n",
    "\n",
    "glimpse(corpus)"
   ]
  },
  {
   "cell_type": "code",
   "execution_count": 23,
   "id": "ec31a125",
   "metadata": {},
   "outputs": [
    {
     "data": {
      "text/html": [
       "<table class=\"dataframe\">\n",
       "<caption>A tibble: 10 × 7</caption>\n",
       "<thead>\n",
       "\t<tr><th scope=col>poem_id</th><th scope=col>text</th><th scope=col>line</th><th scope=col>line_id</th><th scope=col>rhyme_words</th><th scope=col>rhymes</th><th scope=col>pos2</th></tr>\n",
       "\t<tr><th scope=col>&lt;chr&gt;</th><th scope=col>&lt;chr&gt;</th><th scope=col>&lt;int&gt;</th><th scope=col>&lt;chr&gt;</th><th scope=col>&lt;chr&gt;</th><th scope=col>&lt;dbl&gt;</th><th scope=col>&lt;chr&gt;</th></tr>\n",
       "</thead>\n",
       "<tbody>\n",
       "\t<tr><td>P_40</td><td>Цвела лилея полевая:          </td><td> 1</td><td>P_40_1 </td><td>полевая    </td><td>1</td><td>A</td></tr>\n",
       "\t<tr><td>P_40</td><td>Как яркий снег бела, нежна;   </td><td> 2</td><td>P_40_2 </td><td>нежна      </td><td>2</td><td>A</td></tr>\n",
       "\t<tr><td>P_40</td><td>Красой душистою пленяя,       </td><td> 3</td><td>P_40_3 </td><td>пленяя     </td><td>1</td><td>V</td></tr>\n",
       "\t<tr><td>P_40</td><td>Цветком любви наречена.       </td><td> 4</td><td>P_40_4 </td><td>наречена   </td><td>2</td><td>V</td></tr>\n",
       "\t<tr><td>P_40</td><td>Долина ею любовалась;         </td><td> 5</td><td>P_40_5 </td><td>любовалась </td><td>3</td><td>V</td></tr>\n",
       "\t<tr><td>P_40</td><td>Журчал приветно светлый ток,  </td><td> 6</td><td>P_40_6 </td><td>ток        </td><td>4</td><td>S</td></tr>\n",
       "\t<tr><td>P_40</td><td>Пчела к цветку не прикасалась,</td><td> 7</td><td>P_40_7 </td><td>прикасалась</td><td>3</td><td>V</td></tr>\n",
       "\t<tr><td>P_40</td><td>Ее лелеял ветерок.            </td><td> 8</td><td>P_40_8 </td><td>ветерок    </td><td>4</td><td>S</td></tr>\n",
       "\t<tr><td>P_40</td><td>Но буря вдруг, вдали чернея,  </td><td> 9</td><td>P_40_9 </td><td>чернея     </td><td>5</td><td>V</td></tr>\n",
       "\t<tr><td>P_40</td><td>Одела мраком небеса, —        </td><td>10</td><td>P_40_10</td><td>небеса     </td><td>6</td><td>S</td></tr>\n",
       "</tbody>\n",
       "</table>\n"
      ],
      "text/latex": [
       "A tibble: 10 × 7\n",
       "\\begin{tabular}{lllllll}\n",
       " poem\\_id & text & line & line\\_id & rhyme\\_words & rhymes & pos2\\\\\n",
       " <chr> & <chr> & <int> & <chr> & <chr> & <dbl> & <chr>\\\\\n",
       "\\hline\n",
       "\t P\\_40 & Цвела лилея полевая:           &  1 & P\\_40\\_1  & полевая     & 1 & A\\\\\n",
       "\t P\\_40 & Как яркий снег бела, нежна;    &  2 & P\\_40\\_2  & нежна       & 2 & A\\\\\n",
       "\t P\\_40 & Красой душистою пленяя,        &  3 & P\\_40\\_3  & пленяя      & 1 & V\\\\\n",
       "\t P\\_40 & Цветком любви наречена.        &  4 & P\\_40\\_4  & наречена    & 2 & V\\\\\n",
       "\t P\\_40 & Долина ею любовалась;          &  5 & P\\_40\\_5  & любовалась  & 3 & V\\\\\n",
       "\t P\\_40 & Журчал приветно светлый ток,   &  6 & P\\_40\\_6  & ток         & 4 & S\\\\\n",
       "\t P\\_40 & Пчела к цветку не прикасалась, &  7 & P\\_40\\_7  & прикасалась & 3 & V\\\\\n",
       "\t P\\_40 & Ее лелеял ветерок.             &  8 & P\\_40\\_8  & ветерок     & 4 & S\\\\\n",
       "\t P\\_40 & Но буря вдруг, вдали чернея,   &  9 & P\\_40\\_9  & чернея      & 5 & V\\\\\n",
       "\t P\\_40 & Одела мраком небеса, —         & 10 & P\\_40\\_10 & небеса      & 6 & S\\\\\n",
       "\\end{tabular}\n"
      ],
      "text/markdown": [
       "\n",
       "A tibble: 10 × 7\n",
       "\n",
       "| poem_id &lt;chr&gt; | text &lt;chr&gt; | line &lt;int&gt; | line_id &lt;chr&gt; | rhyme_words &lt;chr&gt; | rhymes &lt;dbl&gt; | pos2 &lt;chr&gt; |\n",
       "|---|---|---|---|---|---|---|\n",
       "| P_40 | Цвела лилея полевая:           |  1 | P_40_1  | полевая     | 1 | A |\n",
       "| P_40 | Как яркий снег бела, нежна;    |  2 | P_40_2  | нежна       | 2 | A |\n",
       "| P_40 | Красой душистою пленяя,        |  3 | P_40_3  | пленяя      | 1 | V |\n",
       "| P_40 | Цветком любви наречена.        |  4 | P_40_4  | наречена    | 2 | V |\n",
       "| P_40 | Долина ею любовалась;          |  5 | P_40_5  | любовалась  | 3 | V |\n",
       "| P_40 | Журчал приветно светлый ток,   |  6 | P_40_6  | ток         | 4 | S |\n",
       "| P_40 | Пчела к цветку не прикасалась, |  7 | P_40_7  | прикасалась | 3 | V |\n",
       "| P_40 | Ее лелеял ветерок.             |  8 | P_40_8  | ветерок     | 4 | S |\n",
       "| P_40 | Но буря вдруг, вдали чернея,   |  9 | P_40_9  | чернея      | 5 | V |\n",
       "| P_40 | Одела мраком небеса, —         | 10 | P_40_10 | небеса      | 6 | S |\n",
       "\n"
      ],
      "text/plain": [
       "   poem_id text                           line line_id rhyme_words rhymes pos2\n",
       "1  P_40    Цвела лилея полевая:            1   P_40_1  полевая     1      A   \n",
       "2  P_40    Как яркий снег бела, нежна;     2   P_40_2  нежна       2      A   \n",
       "3  P_40    Красой душистою пленяя,         3   P_40_3  пленяя      1      V   \n",
       "4  P_40    Цветком любви наречена.         4   P_40_4  наречена    2      V   \n",
       "5  P_40    Долина ею любовалась;           5   P_40_5  любовалась  3      V   \n",
       "6  P_40    Журчал приветно светлый ток,    6   P_40_6  ток         4      S   \n",
       "7  P_40    Пчела к цветку не прикасалась,  7   P_40_7  прикасалась 3      V   \n",
       "8  P_40    Ее лелеял ветерок.              8   P_40_8  ветерок     4      S   \n",
       "9  P_40    Но буря вдруг, вдали чернея,    9   P_40_9  чернея      5      V   \n",
       "10 P_40    Одела мраком небеса, —         10   P_40_10 небеса      6      S   "
      ]
     },
     "metadata": {},
     "output_type": "display_data"
    }
   ],
   "source": [
    "# join tables with lines and rhyme tagging\n",
    "\n",
    "full_corpus <- left_join(corpus, dat %>% select(line_id, rhyme_words, rhymes, pos2), by = \"line_id\")\n",
    "\n",
    "head(full_corpus,10)"
   ]
  },
  {
   "cell_type": "code",
   "execution_count": 24,
   "id": "3c8d1038",
   "metadata": {},
   "outputs": [
    {
     "data": {
      "text/html": [
       "<table class=\"dataframe\">\n",
       "<caption>A tibble: 10 × 9</caption>\n",
       "<thead>\n",
       "\t<tr><th scope=col>poem_id</th><th scope=col>text</th><th scope=col>line</th><th scope=col>line_id</th><th scope=col>rhyme_words</th><th scope=col>rhymes</th><th scope=col>pos2</th><th scope=col>rhyme_pair</th><th scope=col>pos_pair</th></tr>\n",
       "\t<tr><th scope=col>&lt;chr&gt;</th><th scope=col>&lt;chr&gt;</th><th scope=col>&lt;int&gt;</th><th scope=col>&lt;chr&gt;</th><th scope=col>&lt;chr&gt;</th><th scope=col>&lt;dbl&gt;</th><th scope=col>&lt;chr&gt;</th><th scope=col>&lt;chr&gt;</th><th scope=col>&lt;chr&gt;</th></tr>\n",
       "</thead>\n",
       "<tbody>\n",
       "\t<tr><td>P_40</td><td>Цвела лилея полевая:          </td><td> 1</td><td>P_40_1 </td><td>полевая    </td><td>1</td><td>A</td><td>полевая пленяя        </td><td>A V</td></tr>\n",
       "\t<tr><td>P_40</td><td>Как яркий снег бела, нежна;   </td><td> 2</td><td>P_40_2 </td><td>нежна      </td><td>2</td><td>A</td><td>нежна наречена        </td><td>A V</td></tr>\n",
       "\t<tr><td>P_40</td><td>Красой душистою пленяя,       </td><td> 3</td><td>P_40_3 </td><td>пленяя     </td><td>1</td><td>V</td><td>полевая пленяя        </td><td>A V</td></tr>\n",
       "\t<tr><td>P_40</td><td>Цветком любви наречена.       </td><td> 4</td><td>P_40_4 </td><td>наречена   </td><td>2</td><td>V</td><td>нежна наречена        </td><td>A V</td></tr>\n",
       "\t<tr><td>P_40</td><td>Долина ею любовалась;         </td><td> 5</td><td>P_40_5 </td><td>любовалась </td><td>3</td><td>V</td><td>любовалась прикасалась</td><td>V V</td></tr>\n",
       "\t<tr><td>P_40</td><td>Журчал приветно светлый ток,  </td><td> 6</td><td>P_40_6 </td><td>ток        </td><td>4</td><td>S</td><td>ток ветерок           </td><td>S S</td></tr>\n",
       "\t<tr><td>P_40</td><td>Пчела к цветку не прикасалась,</td><td> 7</td><td>P_40_7 </td><td>прикасалась</td><td>3</td><td>V</td><td>любовалась прикасалась</td><td>V V</td></tr>\n",
       "\t<tr><td>P_40</td><td>Ее лелеял ветерок.            </td><td> 8</td><td>P_40_8 </td><td>ветерок    </td><td>4</td><td>S</td><td>ток ветерок           </td><td>S S</td></tr>\n",
       "\t<tr><td>P_40</td><td>Но буря вдруг, вдали чернея,  </td><td> 9</td><td>P_40_9 </td><td>чернея     </td><td>5</td><td>V</td><td>чернея лилея          </td><td>V S</td></tr>\n",
       "\t<tr><td>P_40</td><td>Одела мраком небеса, —        </td><td>10</td><td>P_40_10</td><td>небеса     </td><td>6</td><td>S</td><td>небеса краса          </td><td>S S</td></tr>\n",
       "</tbody>\n",
       "</table>\n"
      ],
      "text/latex": [
       "A tibble: 10 × 9\n",
       "\\begin{tabular}{lllllllll}\n",
       " poem\\_id & text & line & line\\_id & rhyme\\_words & rhymes & pos2 & rhyme\\_pair & pos\\_pair\\\\\n",
       " <chr> & <chr> & <int> & <chr> & <chr> & <dbl> & <chr> & <chr> & <chr>\\\\\n",
       "\\hline\n",
       "\t P\\_40 & Цвела лилея полевая:           &  1 & P\\_40\\_1  & полевая     & 1 & A & полевая пленяя         & A V\\\\\n",
       "\t P\\_40 & Как яркий снег бела, нежна;    &  2 & P\\_40\\_2  & нежна       & 2 & A & нежна наречена         & A V\\\\\n",
       "\t P\\_40 & Красой душистою пленяя,        &  3 & P\\_40\\_3  & пленяя      & 1 & V & полевая пленяя         & A V\\\\\n",
       "\t P\\_40 & Цветком любви наречена.        &  4 & P\\_40\\_4  & наречена    & 2 & V & нежна наречена         & A V\\\\\n",
       "\t P\\_40 & Долина ею любовалась;          &  5 & P\\_40\\_5  & любовалась  & 3 & V & любовалась прикасалась & V V\\\\\n",
       "\t P\\_40 & Журчал приветно светлый ток,   &  6 & P\\_40\\_6  & ток         & 4 & S & ток ветерок            & S S\\\\\n",
       "\t P\\_40 & Пчела к цветку не прикасалась, &  7 & P\\_40\\_7  & прикасалась & 3 & V & любовалась прикасалась & V V\\\\\n",
       "\t P\\_40 & Ее лелеял ветерок.             &  8 & P\\_40\\_8  & ветерок     & 4 & S & ток ветерок            & S S\\\\\n",
       "\t P\\_40 & Но буря вдруг, вдали чернея,   &  9 & P\\_40\\_9  & чернея      & 5 & V & чернея лилея           & V S\\\\\n",
       "\t P\\_40 & Одела мраком небеса, —         & 10 & P\\_40\\_10 & небеса      & 6 & S & небеса краса           & S S\\\\\n",
       "\\end{tabular}\n"
      ],
      "text/markdown": [
       "\n",
       "A tibble: 10 × 9\n",
       "\n",
       "| poem_id &lt;chr&gt; | text &lt;chr&gt; | line &lt;int&gt; | line_id &lt;chr&gt; | rhyme_words &lt;chr&gt; | rhymes &lt;dbl&gt; | pos2 &lt;chr&gt; | rhyme_pair &lt;chr&gt; | pos_pair &lt;chr&gt; |\n",
       "|---|---|---|---|---|---|---|---|---|\n",
       "| P_40 | Цвела лилея полевая:           |  1 | P_40_1  | полевая     | 1 | A | полевая пленяя         | A V |\n",
       "| P_40 | Как яркий снег бела, нежна;    |  2 | P_40_2  | нежна       | 2 | A | нежна наречена         | A V |\n",
       "| P_40 | Красой душистою пленяя,        |  3 | P_40_3  | пленяя      | 1 | V | полевая пленяя         | A V |\n",
       "| P_40 | Цветком любви наречена.        |  4 | P_40_4  | наречена    | 2 | V | нежна наречена         | A V |\n",
       "| P_40 | Долина ею любовалась;          |  5 | P_40_5  | любовалась  | 3 | V | любовалась прикасалась | V V |\n",
       "| P_40 | Журчал приветно светлый ток,   |  6 | P_40_6  | ток         | 4 | S | ток ветерок            | S S |\n",
       "| P_40 | Пчела к цветку не прикасалась, |  7 | P_40_7  | прикасалась | 3 | V | любовалась прикасалась | V V |\n",
       "| P_40 | Ее лелеял ветерок.             |  8 | P_40_8  | ветерок     | 4 | S | ток ветерок            | S S |\n",
       "| P_40 | Но буря вдруг, вдали чернея,   |  9 | P_40_9  | чернея      | 5 | V | чернея лилея           | V S |\n",
       "| P_40 | Одела мраком небеса, —         | 10 | P_40_10 | небеса      | 6 | S | небеса краса           | S S |\n",
       "\n"
      ],
      "text/plain": [
       "   poem_id text                           line line_id rhyme_words rhymes pos2\n",
       "1  P_40    Цвела лилея полевая:            1   P_40_1  полевая     1      A   \n",
       "2  P_40    Как яркий снег бела, нежна;     2   P_40_2  нежна       2      A   \n",
       "3  P_40    Красой душистою пленяя,         3   P_40_3  пленяя      1      V   \n",
       "4  P_40    Цветком любви наречена.         4   P_40_4  наречена    2      V   \n",
       "5  P_40    Долина ею любовалась;           5   P_40_5  любовалась  3      V   \n",
       "6  P_40    Журчал приветно светлый ток,    6   P_40_6  ток         4      S   \n",
       "7  P_40    Пчела к цветку не прикасалась,  7   P_40_7  прикасалась 3      V   \n",
       "8  P_40    Ее лелеял ветерок.              8   P_40_8  ветерок     4      S   \n",
       "9  P_40    Но буря вдруг, вдали чернея,    9   P_40_9  чернея      5      V   \n",
       "10 P_40    Одела мраком небеса, —         10   P_40_10 небеса      6      S   \n",
       "   rhyme_pair             pos_pair\n",
       "1  полевая пленяя         A V     \n",
       "2  нежна наречена         A V     \n",
       "3  полевая пленяя         A V     \n",
       "4  нежна наречена         A V     \n",
       "5  любовалась прикасалась V V     \n",
       "6  ток ветерок            S S     \n",
       "7  любовалась прикасалась V V     \n",
       "8  ток ветерок            S S     \n",
       "9  чернея лилея           V S     \n",
       "10 небеса краса           S S     "
      ]
     },
     "metadata": {},
     "output_type": "display_data"
    }
   ],
   "source": [
    "# create columns with rhyme pairs\n",
    "\n",
    "# to do: cut rhyme \"pairs\" detected as same rhyme of 3+ rhyming words\n",
    "full_corpus <- full_corpus %>% \n",
    "  group_by(poem_id, rhymes) %>% \n",
    "  mutate(rhyme_pair = ifelse(!is.na(rhymes), # remove NA from collapsing\n",
    "                             paste0(rhyme_words, collapse = \" \"), \n",
    "                             NA)) %>% \n",
    "  mutate(pos_pair = ifelse(!is.na(rhymes),\n",
    "                          paste0(pos2, collapse = \" \"),\n",
    "                          NA)) %>%\n",
    "  ungroup()\n",
    "\n",
    "head(full_corpus, 10)"
   ]
  },
  {
   "cell_type": "code",
   "execution_count": 9,
   "id": "79b37358",
   "metadata": {},
   "outputs": [
    {
     "data": {
      "text/html": [
       "<table class=\"dataframe\">\n",
       "<caption>A grouped_df: 10 × 2</caption>\n",
       "<thead>\n",
       "\t<tr><th scope=col>rhyme_words</th><th scope=col>n</th></tr>\n",
       "\t<tr><th scope=col>&lt;chr&gt;</th><th scope=col>&lt;int&gt;</th></tr>\n",
       "</thead>\n",
       "<tbody>\n",
       "\t<tr><td>небесах    </td><td>4</td></tr>\n",
       "\t<tr><td>ее         </td><td>3</td></tr>\n",
       "\t<tr><td>любви      </td><td>3</td></tr>\n",
       "\t<tr><td>молодая    </td><td>3</td></tr>\n",
       "\t<tr><td>небесной   </td><td>3</td></tr>\n",
       "\t<tr><td>прах       </td><td>3</td></tr>\n",
       "\t<tr><td>рая        </td><td>3</td></tr>\n",
       "\t<tr><td>балах      </td><td>2</td></tr>\n",
       "\t<tr><td>бестелесной</td><td>2</td></tr>\n",
       "\t<tr><td>блестит    </td><td>2</td></tr>\n",
       "</tbody>\n",
       "</table>\n"
      ],
      "text/latex": [
       "A grouped\\_df: 10 × 2\n",
       "\\begin{tabular}{ll}\n",
       " rhyme\\_words & n\\\\\n",
       " <chr> & <int>\\\\\n",
       "\\hline\n",
       "\t небесах     & 4\\\\\n",
       "\t ее          & 3\\\\\n",
       "\t любви       & 3\\\\\n",
       "\t молодая     & 3\\\\\n",
       "\t небесной    & 3\\\\\n",
       "\t прах        & 3\\\\\n",
       "\t рая         & 3\\\\\n",
       "\t балах       & 2\\\\\n",
       "\t бестелесной & 2\\\\\n",
       "\t блестит     & 2\\\\\n",
       "\\end{tabular}\n"
      ],
      "text/markdown": [
       "\n",
       "A grouped_df: 10 × 2\n",
       "\n",
       "| rhyme_words &lt;chr&gt; | n &lt;int&gt; |\n",
       "|---|---|\n",
       "| небесах     | 4 |\n",
       "| ее          | 3 |\n",
       "| любви       | 3 |\n",
       "| молодая     | 3 |\n",
       "| небесной    | 3 |\n",
       "| прах        | 3 |\n",
       "| рая         | 3 |\n",
       "| балах       | 2 |\n",
       "| бестелесной | 2 |\n",
       "| блестит     | 2 |\n",
       "\n"
      ],
      "text/plain": [
       "   rhyme_words n\n",
       "1  небесах     4\n",
       "2  ее          3\n",
       "3  любви       3\n",
       "4  молодая     3\n",
       "5  небесной    3\n",
       "6  прах        3\n",
       "7  рая         3\n",
       "8  балах       2\n",
       "9  бестелесной 2\n",
       "10 блестит     2"
      ]
     },
     "metadata": {},
     "output_type": "display_data"
    }
   ],
   "source": [
    "# count rhyme words freqs\n",
    "\n",
    "rhyme_words <- full_corpus %>% \n",
    "  group_by(rhyme_words) %>% \n",
    "  count(sort = T)\n",
    "\n",
    "head(rhyme_words, 10)"
   ]
  },
  {
   "cell_type": "code",
   "execution_count": 12,
   "id": "c75e0c90",
   "metadata": {},
   "outputs": [
    {
     "data": {
      "text/html": [
       "<table class=\"dataframe\">\n",
       "<caption>A grouped_df: 15 × 2</caption>\n",
       "<thead>\n",
       "\t<tr><th scope=col>rhyme_pair</th><th scope=col>n</th></tr>\n",
       "\t<tr><th scope=col>&lt;chr&gt;</th><th scope=col>&lt;int&gt;</th></tr>\n",
       "</thead>\n",
       "<tbody>\n",
       "\t<tr><td>NA                                         </td><td>81</td></tr>\n",
       "\t<tr><td>багровый живой слезой рукой тоской         </td><td> 5</td></tr>\n",
       "\t<tr><td>пробегает палит сверкает блестит опустошает</td><td> 5</td></tr>\n",
       "\t<tr><td>красу лесу природу свободу                 </td><td> 4</td></tr>\n",
       "\t<tr><td>подымет прозрит обнимет воскресит          </td><td> 4</td></tr>\n",
       "\t<tr><td>колыбели цели были                         </td><td> 3</td></tr>\n",
       "\t<tr><td>могилы унылый застылый                     </td><td> 3</td></tr>\n",
       "\t<tr><td>поля земля мечта                           </td><td> 3</td></tr>\n",
       "\t<tr><td>прах небесах мечтаньях                     </td><td> 3</td></tr>\n",
       "\t<tr><td>прелестных разноцветных золотых            </td><td> 3</td></tr>\n",
       "\t<tr><td>размежевало начало дерзало                 </td><td> 3</td></tr>\n",
       "\t<tr><td>счастьедатной тобой красотой               </td><td> 3</td></tr>\n",
       "\t<tr><td>Мальвина долина                            </td><td> 2</td></tr>\n",
       "\t<tr><td>Толпами руками                             </td><td> 2</td></tr>\n",
       "\t<tr><td>балах прах                                 </td><td> 2</td></tr>\n",
       "</tbody>\n",
       "</table>\n"
      ],
      "text/latex": [
       "A grouped\\_df: 15 × 2\n",
       "\\begin{tabular}{ll}\n",
       " rhyme\\_pair & n\\\\\n",
       " <chr> & <int>\\\\\n",
       "\\hline\n",
       "\t NA                                          & 81\\\\\n",
       "\t багровый живой слезой рукой тоской          &  5\\\\\n",
       "\t пробегает палит сверкает блестит опустошает &  5\\\\\n",
       "\t красу лесу природу свободу                  &  4\\\\\n",
       "\t подымет прозрит обнимет воскресит           &  4\\\\\n",
       "\t колыбели цели были                          &  3\\\\\n",
       "\t могилы унылый застылый                      &  3\\\\\n",
       "\t поля земля мечта                            &  3\\\\\n",
       "\t прах небесах мечтаньях                      &  3\\\\\n",
       "\t прелестных разноцветных золотых             &  3\\\\\n",
       "\t размежевало начало дерзало                  &  3\\\\\n",
       "\t счастьедатной тобой красотой                &  3\\\\\n",
       "\t Мальвина долина                             &  2\\\\\n",
       "\t Толпами руками                              &  2\\\\\n",
       "\t балах прах                                  &  2\\\\\n",
       "\\end{tabular}\n"
      ],
      "text/markdown": [
       "\n",
       "A grouped_df: 15 × 2\n",
       "\n",
       "| rhyme_pair &lt;chr&gt; | n &lt;int&gt; |\n",
       "|---|---|\n",
       "| NA                                          | 81 |\n",
       "| багровый живой слезой рукой тоской          |  5 |\n",
       "| пробегает палит сверкает блестит опустошает |  5 |\n",
       "| красу лесу природу свободу                  |  4 |\n",
       "| подымет прозрит обнимет воскресит           |  4 |\n",
       "| колыбели цели были                          |  3 |\n",
       "| могилы унылый застылый                      |  3 |\n",
       "| поля земля мечта                            |  3 |\n",
       "| прах небесах мечтаньях                      |  3 |\n",
       "| прелестных разноцветных золотых             |  3 |\n",
       "| размежевало начало дерзало                  |  3 |\n",
       "| счастьедатной тобой красотой                |  3 |\n",
       "| Мальвина долина                             |  2 |\n",
       "| Толпами руками                              |  2 |\n",
       "| балах прах                                  |  2 |\n",
       "\n"
      ],
      "text/plain": [
       "   rhyme_pair                                  n \n",
       "1  NA                                          81\n",
       "2  багровый живой слезой рукой тоской           5\n",
       "3  пробегает палит сверкает блестит опустошает  5\n",
       "4  красу лесу природу свободу                   4\n",
       "5  подымет прозрит обнимет воскресит            4\n",
       "6  колыбели цели были                           3\n",
       "7  могилы унылый застылый                       3\n",
       "8  поля земля мечта                             3\n",
       "9  прах небесах мечтаньях                       3\n",
       "10 прелестных разноцветных золотых              3\n",
       "11 размежевало начало дерзало                   3\n",
       "12 счастьедатной тобой красотой                 3\n",
       "13 Мальвина долина                              2\n",
       "14 Толпами руками                               2\n",
       "15 балах прах                                   2"
      ]
     },
     "metadata": {},
     "output_type": "display_data"
    }
   ],
   "source": [
    "# count rhyme pairs freqs\n",
    "\n",
    "rhyme_pairs <- full_corpus %>% \n",
    "  group_by(rhyme_pair) %>% \n",
    "  count(sort = T)\n",
    "\n",
    "head(rhyme_pairs, 15)"
   ]
  },
  {
   "cell_type": "code",
   "execution_count": 25,
   "id": "4425a68c",
   "metadata": {},
   "outputs": [
    {
     "data": {
      "text/html": [
       "<table class=\"dataframe\">\n",
       "<caption>A grouped_df: 15 × 2</caption>\n",
       "<thead>\n",
       "\t<tr><th scope=col>pos_pair</th><th scope=col>n</th></tr>\n",
       "\t<tr><th scope=col>&lt;chr&gt;</th><th scope=col>&lt;int&gt;</th></tr>\n",
       "</thead>\n",
       "<tbody>\n",
       "\t<tr><td>S S      </td><td>128</td></tr>\n",
       "\t<tr><td>NA       </td><td> 81</td></tr>\n",
       "\t<tr><td>V V      </td><td> 58</td></tr>\n",
       "\t<tr><td>A A      </td><td> 24</td></tr>\n",
       "\t<tr><td>A S      </td><td> 16</td></tr>\n",
       "\t<tr><td>V S      </td><td> 14</td></tr>\n",
       "\t<tr><td>S V      </td><td> 12</td></tr>\n",
       "\t<tr><td>S A      </td><td> 10</td></tr>\n",
       "\t<tr><td>S SPRO   </td><td>  8</td></tr>\n",
       "\t<tr><td>A V      </td><td>  6</td></tr>\n",
       "\t<tr><td>S S S    </td><td>  6</td></tr>\n",
       "\t<tr><td>V SPRO   </td><td>  6</td></tr>\n",
       "\t<tr><td>A A S S S</td><td>  5</td></tr>\n",
       "\t<tr><td>V V V V V</td><td>  5</td></tr>\n",
       "\t<tr><td>ADV A    </td><td>  4</td></tr>\n",
       "</tbody>\n",
       "</table>\n"
      ],
      "text/latex": [
       "A grouped\\_df: 15 × 2\n",
       "\\begin{tabular}{ll}\n",
       " pos\\_pair & n\\\\\n",
       " <chr> & <int>\\\\\n",
       "\\hline\n",
       "\t S S       & 128\\\\\n",
       "\t NA        &  81\\\\\n",
       "\t V V       &  58\\\\\n",
       "\t A A       &  24\\\\\n",
       "\t A S       &  16\\\\\n",
       "\t V S       &  14\\\\\n",
       "\t S V       &  12\\\\\n",
       "\t S A       &  10\\\\\n",
       "\t S SPRO    &   8\\\\\n",
       "\t A V       &   6\\\\\n",
       "\t S S S     &   6\\\\\n",
       "\t V SPRO    &   6\\\\\n",
       "\t A A S S S &   5\\\\\n",
       "\t V V V V V &   5\\\\\n",
       "\t ADV A     &   4\\\\\n",
       "\\end{tabular}\n"
      ],
      "text/markdown": [
       "\n",
       "A grouped_df: 15 × 2\n",
       "\n",
       "| pos_pair &lt;chr&gt; | n &lt;int&gt; |\n",
       "|---|---|\n",
       "| S S       | 128 |\n",
       "| NA        |  81 |\n",
       "| V V       |  58 |\n",
       "| A A       |  24 |\n",
       "| A S       |  16 |\n",
       "| V S       |  14 |\n",
       "| S V       |  12 |\n",
       "| S A       |  10 |\n",
       "| S SPRO    |   8 |\n",
       "| A V       |   6 |\n",
       "| S S S     |   6 |\n",
       "| V SPRO    |   6 |\n",
       "| A A S S S |   5 |\n",
       "| V V V V V |   5 |\n",
       "| ADV A     |   4 |\n",
       "\n"
      ],
      "text/plain": [
       "   pos_pair  n  \n",
       "1  S S       128\n",
       "2  NA         81\n",
       "3  V V        58\n",
       "4  A A        24\n",
       "5  A S        16\n",
       "6  V S        14\n",
       "7  S V        12\n",
       "8  S A        10\n",
       "9  S SPRO      8\n",
       "10 A V         6\n",
       "11 S S S       6\n",
       "12 V SPRO      6\n",
       "13 A A S S S   5\n",
       "14 V V V V V   5\n",
       "15 ADV A       4"
      ]
     },
     "metadata": {},
     "output_type": "display_data"
    }
   ],
   "source": [
    "# pos pairs\n",
    "\n",
    "rhyme_pos <- full_corpus %>% \n",
    "    group_by(pos_pair) %>% \n",
    "    count(sort = T)\n",
    "\n",
    "head(rhyme_pos, 15)"
   ]
  },
  {
   "cell_type": "code",
   "execution_count": null,
   "id": "d77bafdd",
   "metadata": {},
   "outputs": [],
   "source": []
  }
 ],
 "metadata": {
  "kernelspec": {
   "display_name": "R",
   "language": "R",
   "name": "ir"
  },
  "language_info": {
   "codemirror_mode": "r",
   "file_extension": ".r",
   "mimetype": "text/x-r-source",
   "name": "R",
   "pygments_lexer": "r",
   "version": "4.2.1"
  }
 },
 "nbformat": 4,
 "nbformat_minor": 5
}
